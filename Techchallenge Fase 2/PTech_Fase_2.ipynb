{
 "cells": [
  {
   "cell_type": "code",
   "execution_count": 20,
   "metadata": {
    "executionInfo": {
     "elapsed": 244,
     "status": "ok",
     "timestamp": 1734197223043,
     "user": {
      "displayName": "Matheus Sousa",
      "userId": "01457785383614702264"
     },
     "user_tz": 180
    },
    "id": "trOxoTBjDXG5"
   },
   "outputs": [],
   "source": [
    "# importar bibliotecas necessarias para o desenvolvimento do trabalho\n",
    "\n",
    "import pandas as pd\n",
    "import numpy as np"
   ]
  },
  {
   "cell_type": "code",
   "execution_count": 21,
   "metadata": {
    "executionInfo": {
     "elapsed": 33,
     "status": "ok",
     "timestamp": 1734197225068,
     "user": {
      "displayName": "Matheus Sousa",
      "userId": "01457785383614702264"
     },
     "user_tz": 180
    },
    "id": "0RF1J6QhEPuR"
   },
   "outputs": [],
   "source": [
    "# carregar arquivo da base de dados contida no site da Investing - período 01.2024 a 11.2024\n",
    "\n",
    "file_path = \"C:/Users/Mathw/Downloads/Dados Históricos - Ibovespa (PTech).csv\"\n",
    "df = pd.read_csv(file_path)"
   ]
  },
  {
   "cell_type": "code",
   "execution_count": 22,
   "metadata": {
    "colab": {
     "base_uri": "https://localhost:8080/"
    },
    "executionInfo": {
     "elapsed": 34,
     "status": "ok",
     "timestamp": 1734197225069,
     "user": {
      "displayName": "Matheus Sousa",
      "userId": "01457785383614702264"
     },
     "user_tz": 180
    },
    "id": "vxRRcDH6FZ23",
    "outputId": "3781aee9-8ee8-48be-b2b0-552262def0cb"
   },
   "outputs": [
    {
     "name": "stdout",
     "output_type": "stream",
     "text": [
      "         Data   Último  Abertura   Máxima   Mínima    Vol.    Var%\n",
      "0  10.12.2024  128.228   127.213  128.511  127.213   9,14B   0,80%\n",
      "1  09.12.2024  127.210   125.946  127.542  125.946   9,37B   1,00%\n",
      "2  06.12.2024  125.946   127.856  127.872  125.833  11,22B  -1,50%\n",
      "3  05.12.2024  127.858   126.088  127.989  126.087   9,53B   1,40%\n",
      "4  04.12.2024  126.087   126.139  126.720  125.828   9,39B  -0,04%\n"
     ]
    }
   ],
   "source": [
    "# checar as primeiras linhas do dataframe\n",
    "\n",
    "print(df.head())"
   ]
  },
  {
   "cell_type": "code",
   "execution_count": 23,
   "metadata": {
    "colab": {
     "base_uri": "https://localhost:8080/"
    },
    "executionInfo": {
     "elapsed": 32,
     "status": "ok",
     "timestamp": 1734197225069,
     "user": {
      "displayName": "Matheus Sousa",
      "userId": "01457785383614702264"
     },
     "user_tz": 180
    },
    "id": "EMY9SaOMGQm1",
    "outputId": "2cbc8471-f549-4f38-94fe-f9b3dcfa897b"
   },
   "outputs": [
    {
     "name": "stdout",
     "output_type": "stream",
     "text": [
      "Data         object\n",
      "Último      float64\n",
      "Abertura    float64\n",
      "Máxima      float64\n",
      "Mínima      float64\n",
      "Vol.         object\n",
      "Var%         object\n",
      "dtype: object\n"
     ]
    }
   ],
   "source": [
    "# verficar tipos das colunas\n",
    "\n",
    "print(df.dtypes)"
   ]
  },
  {
   "cell_type": "code",
   "execution_count": 24,
   "metadata": {
    "colab": {
     "base_uri": "https://localhost:8080/"
    },
    "executionInfo": {
     "elapsed": 30,
     "status": "ok",
     "timestamp": 1734197225069,
     "user": {
      "displayName": "Matheus Sousa",
      "userId": "01457785383614702264"
     },
     "user_tz": 180
    },
    "id": "MVFBm6khMLLR",
    "outputId": "2b77e8ce-e6d4-4482-f408-0f9f9ade27bc"
   },
   "outputs": [
    {
     "name": "stdout",
     "output_type": "stream",
     "text": [
      "0    128.228\n",
      "1    127.210\n",
      "2    125.946\n",
      "3    127.858\n",
      "4    126.087\n",
      "Name: Último, dtype: float64\n",
      "Último\n",
      "<class 'float'>    2715\n",
      "Name: count, dtype: int64\n"
     ]
    }
   ],
   "source": [
    "# Checar valores que não podem ser convertidos\n",
    "print(df['Último'].head())  # retornar primeiros valores da coluna\n",
    "print(df['Último'].apply(type).value_counts())  # Checar os tipos de dados na coluna\n"
   ]
  },
  {
   "cell_type": "code",
   "execution_count": 25,
   "metadata": {
    "executionInfo": {
     "elapsed": 28,
     "status": "ok",
     "timestamp": 1734197225070,
     "user": {
      "displayName": "Matheus Sousa",
      "userId": "01457785383614702264"
     },
     "user_tz": 180
    },
    "id": "qMYyYjRBI1u8"
   },
   "outputs": [],
   "source": [
    "# ajustar type das colunas\n",
    "\n",
    "df['Último'] = df['Último'].astype(str).str.replace(',', '.').astype(float)\n",
    "df['Abertura'] = df['Abertura'].astype(str).str.replace(',', '.').astype(float)\n",
    "df['Máxima'] = df['Máxima'].astype(str).str.replace(',', '.').astype(float)\n",
    "df['Mínima'] = df['Mínima'].astype(str).str.replace(',', '.').astype(float)\n",
    "\n"
   ]
  },
  {
   "cell_type": "code",
   "execution_count": 26,
   "metadata": {
    "executionInfo": {
     "elapsed": 27,
     "status": "ok",
     "timestamp": 1734197225070,
     "user": {
      "displayName": "Matheus Sousa",
      "userId": "01457785383614702264"
     },
     "user_tz": 180
    },
    "id": "9SO6CqKJNtoC"
   },
   "outputs": [],
   "source": [
    "# Tratando a coluna de percentual. Aqui vou alterar para string, remover o símbolo de porcentagem e transformar em float\n",
    "\n",
    "df['Var%'] = df['Var%'].astype(str).str.replace('%', '').str.replace(',', '.').astype(float)\n"
   ]
  },
  {
   "cell_type": "code",
   "execution_count": 27,
   "metadata": {
    "executionInfo": {
     "elapsed": 26,
     "status": "ok",
     "timestamp": 1734197225070,
     "user": {
      "displayName": "Matheus Sousa",
      "userId": "01457785383614702264"
     },
     "user_tz": 180
    },
    "id": "bvSj2x9hQPIP"
   },
   "outputs": [],
   "source": [
    "# Função para converter valores com 'B', 'M' , 'K' para números\n",
    "def converter_vol(volume):\n",
    "    if pd.isna(volume):  # check se o valor é NaN\n",
    "        return np.nan\n",
    "    volume = str(volume).replace(',', '.')\n",
    "    if 'B' in volume:\n",
    "        return float(volume.replace('B', '')) * 1e9  # Converter bilhões - 9 zeros\n",
    "    elif 'M' in volume:\n",
    "        return float(volume.replace('M', '')) * 1e6  # Converter milhões - 6 zeros\n",
    "    elif 'K' in volume:\n",
    "        return float(volume.replace('K', '')) * 1e3  # Converter milhares - 3 zeros\n",
    "    else:\n",
    "        return float(volume)\n"
   ]
  },
  {
   "cell_type": "code",
   "execution_count": 28,
   "metadata": {
    "colab": {
     "base_uri": "https://localhost:8080/"
    },
    "executionInfo": {
     "elapsed": 26,
     "status": "ok",
     "timestamp": 1734197225070,
     "user": {
      "displayName": "Matheus Sousa",
      "userId": "01457785383614702264"
     },
     "user_tz": 180
    },
    "id": "4EQLQHiJTfJR",
    "outputId": "21a783b2-9d4f-4c7a-86ca-883efe688ee7"
   },
   "outputs": [
    {
     "name": "stdout",
     "output_type": "stream",
     "text": [
      "['9,14B' '9,37B' '11,22B' ... '5,93M' '1,88M' '1,41M']\n"
     ]
    }
   ],
   "source": [
    "print(df['Vol.'].unique())"
   ]
  },
  {
   "cell_type": "code",
   "execution_count": 29,
   "metadata": {
    "executionInfo": {
     "elapsed": 21,
     "status": "ok",
     "timestamp": 1734197225070,
     "user": {
      "displayName": "Matheus Sousa",
      "userId": "01457785383614702264"
     },
     "user_tz": 180
    },
    "id": "6vMugtdCSgZR"
   },
   "outputs": [],
   "source": [
    "# Aplicar a função na coluna 'Vol.'\n",
    "\n",
    "df['Vol.'] = df['Vol.'].apply(converter_vol)"
   ]
  },
  {
   "cell_type": "code",
   "execution_count": 30,
   "metadata": {
    "colab": {
     "base_uri": "https://localhost:8080/"
    },
    "executionInfo": {
     "elapsed": 20,
     "status": "ok",
     "timestamp": 1734197225070,
     "user": {
      "displayName": "Matheus Sousa",
      "userId": "01457785383614702264"
     },
     "user_tz": 180
    },
    "id": "pOH15eO7STc_",
    "outputId": "b113073a-7eee-491d-afe3-04a12903a569"
   },
   "outputs": [
    {
     "name": "stdout",
     "output_type": "stream",
     "text": [
      "0    9.140000e+09\n",
      "1    9.370000e+09\n",
      "2    1.122000e+10\n",
      "3    9.530000e+09\n",
      "4    9.390000e+09\n",
      "Name: Vol., dtype: float64\n",
      "float64\n"
     ]
    }
   ],
   "source": [
    "print(df['Vol.'].head())  # Verificar os primeiros valores convertidos\n",
    "print(df['Vol.'].dtypes)  # Confirmar que a coluna é numérica"
   ]
  },
  {
   "cell_type": "code",
   "execution_count": 31,
   "metadata": {
    "colab": {
     "base_uri": "https://localhost:8080/",
     "height": 206
    },
    "executionInfo": {
     "elapsed": 19,
     "status": "ok",
     "timestamp": 1734197225070,
     "user": {
      "displayName": "Matheus Sousa",
      "userId": "01457785383614702264"
     },
     "user_tz": 180
    },
    "id": "NjrMbXiOTxAm",
    "outputId": "71fe0f93-1be4-41f3-a7d3-5afc865dd6df"
   },
   "outputs": [
    {
     "data": {
      "text/html": [
       "<div>\n",
       "<style scoped>\n",
       "    .dataframe tbody tr th:only-of-type {\n",
       "        vertical-align: middle;\n",
       "    }\n",
       "\n",
       "    .dataframe tbody tr th {\n",
       "        vertical-align: top;\n",
       "    }\n",
       "\n",
       "    .dataframe thead th {\n",
       "        text-align: right;\n",
       "    }\n",
       "</style>\n",
       "<table border=\"1\" class=\"dataframe\">\n",
       "  <thead>\n",
       "    <tr style=\"text-align: right;\">\n",
       "      <th></th>\n",
       "      <th>Data</th>\n",
       "      <th>Último</th>\n",
       "      <th>Abertura</th>\n",
       "      <th>Máxima</th>\n",
       "      <th>Mínima</th>\n",
       "      <th>Vol.</th>\n",
       "      <th>Var%</th>\n",
       "    </tr>\n",
       "  </thead>\n",
       "  <tbody>\n",
       "    <tr>\n",
       "      <th>0</th>\n",
       "      <td>10.12.2024</td>\n",
       "      <td>128.228</td>\n",
       "      <td>127.213</td>\n",
       "      <td>128.511</td>\n",
       "      <td>127.213</td>\n",
       "      <td>9.140000e+09</td>\n",
       "      <td>0.80</td>\n",
       "    </tr>\n",
       "    <tr>\n",
       "      <th>1</th>\n",
       "      <td>09.12.2024</td>\n",
       "      <td>127.210</td>\n",
       "      <td>125.946</td>\n",
       "      <td>127.542</td>\n",
       "      <td>125.946</td>\n",
       "      <td>9.370000e+09</td>\n",
       "      <td>1.00</td>\n",
       "    </tr>\n",
       "    <tr>\n",
       "      <th>2</th>\n",
       "      <td>06.12.2024</td>\n",
       "      <td>125.946</td>\n",
       "      <td>127.856</td>\n",
       "      <td>127.872</td>\n",
       "      <td>125.833</td>\n",
       "      <td>1.122000e+10</td>\n",
       "      <td>-1.50</td>\n",
       "    </tr>\n",
       "    <tr>\n",
       "      <th>3</th>\n",
       "      <td>05.12.2024</td>\n",
       "      <td>127.858</td>\n",
       "      <td>126.088</td>\n",
       "      <td>127.989</td>\n",
       "      <td>126.087</td>\n",
       "      <td>9.530000e+09</td>\n",
       "      <td>1.40</td>\n",
       "    </tr>\n",
       "    <tr>\n",
       "      <th>4</th>\n",
       "      <td>04.12.2024</td>\n",
       "      <td>126.087</td>\n",
       "      <td>126.139</td>\n",
       "      <td>126.720</td>\n",
       "      <td>125.828</td>\n",
       "      <td>9.390000e+09</td>\n",
       "      <td>-0.04</td>\n",
       "    </tr>\n",
       "  </tbody>\n",
       "</table>\n",
       "</div>"
      ],
      "text/plain": [
       "         Data   Último  Abertura   Máxima   Mínima          Vol.  Var%\n",
       "0  10.12.2024  128.228   127.213  128.511  127.213  9.140000e+09  0.80\n",
       "1  09.12.2024  127.210   125.946  127.542  125.946  9.370000e+09  1.00\n",
       "2  06.12.2024  125.946   127.856  127.872  125.833  1.122000e+10 -1.50\n",
       "3  05.12.2024  127.858   126.088  127.989  126.087  9.530000e+09  1.40\n",
       "4  04.12.2024  126.087   126.139  126.720  125.828  9.390000e+09 -0.04"
      ]
     },
     "execution_count": 31,
     "metadata": {},
     "output_type": "execute_result"
    }
   ],
   "source": [
    "# Exibir as primeiras linhas do DataFrame ajustado\n",
    "df.head()"
   ]
  },
  {
   "cell_type": "code",
   "execution_count": 32,
   "metadata": {
    "colab": {
     "base_uri": "https://localhost:8080/",
     "height": 206
    },
    "executionInfo": {
     "elapsed": 249,
     "status": "ok",
     "timestamp": 1734198138141,
     "user": {
      "displayName": "Matheus Sousa",
      "userId": "01457785383614702264"
     },
     "user_tz": 180
    },
    "id": "I9UU17WuPluv",
    "outputId": "ba04f5ed-705a-4ffc-d29d-89090799f224"
   },
   "outputs": [
    {
     "data": {
      "text/html": [
       "<div>\n",
       "<style scoped>\n",
       "    .dataframe tbody tr th:only-of-type {\n",
       "        vertical-align: middle;\n",
       "    }\n",
       "\n",
       "    .dataframe tbody tr th {\n",
       "        vertical-align: top;\n",
       "    }\n",
       "\n",
       "    .dataframe thead th {\n",
       "        text-align: right;\n",
       "    }\n",
       "</style>\n",
       "<table border=\"1\" class=\"dataframe\">\n",
       "  <thead>\n",
       "    <tr style=\"text-align: right;\">\n",
       "      <th></th>\n",
       "      <th>Data</th>\n",
       "      <th>Último</th>\n",
       "      <th>Abertura</th>\n",
       "      <th>Máxima</th>\n",
       "      <th>Mínima</th>\n",
       "      <th>Vol.</th>\n",
       "      <th>Var%</th>\n",
       "    </tr>\n",
       "  </thead>\n",
       "  <tbody>\n",
       "    <tr>\n",
       "      <th>2710</th>\n",
       "      <td>08.01.2014</td>\n",
       "      <td>50.577</td>\n",
       "      <td>50.431</td>\n",
       "      <td>50.793</td>\n",
       "      <td>50.424</td>\n",
       "      <td>2920000.0</td>\n",
       "      <td>0.29</td>\n",
       "    </tr>\n",
       "    <tr>\n",
       "      <th>2711</th>\n",
       "      <td>07.01.2014</td>\n",
       "      <td>50.430</td>\n",
       "      <td>50.982</td>\n",
       "      <td>51.478</td>\n",
       "      <td>50.429</td>\n",
       "      <td>3340000.0</td>\n",
       "      <td>-1.07</td>\n",
       "    </tr>\n",
       "    <tr>\n",
       "      <th>2712</th>\n",
       "      <td>06.01.2014</td>\n",
       "      <td>50.974</td>\n",
       "      <td>50.980</td>\n",
       "      <td>51.002</td>\n",
       "      <td>50.451</td>\n",
       "      <td>3730000.0</td>\n",
       "      <td>-0.01</td>\n",
       "    </tr>\n",
       "    <tr>\n",
       "      <th>2713</th>\n",
       "      <td>03.01.2014</td>\n",
       "      <td>50.981</td>\n",
       "      <td>50.348</td>\n",
       "      <td>50.981</td>\n",
       "      <td>50.269</td>\n",
       "      <td>7360000.0</td>\n",
       "      <td>1.27</td>\n",
       "    </tr>\n",
       "    <tr>\n",
       "      <th>2714</th>\n",
       "      <td>02.01.2014</td>\n",
       "      <td>50.341</td>\n",
       "      <td>51.522</td>\n",
       "      <td>51.656</td>\n",
       "      <td>50.246</td>\n",
       "      <td>3480000.0</td>\n",
       "      <td>-2.26</td>\n",
       "    </tr>\n",
       "  </tbody>\n",
       "</table>\n",
       "</div>"
      ],
      "text/plain": [
       "            Data  Último  Abertura  Máxima  Mínima       Vol.  Var%\n",
       "2710  08.01.2014  50.577    50.431  50.793  50.424  2920000.0  0.29\n",
       "2711  07.01.2014  50.430    50.982  51.478  50.429  3340000.0 -1.07\n",
       "2712  06.01.2014  50.974    50.980  51.002  50.451  3730000.0 -0.01\n",
       "2713  03.01.2014  50.981    50.348  50.981  50.269  7360000.0  1.27\n",
       "2714  02.01.2014  50.341    51.522  51.656  50.246  3480000.0 -2.26"
      ]
     },
     "execution_count": 32,
     "metadata": {},
     "output_type": "execute_result"
    }
   ],
   "source": [
    "df.tail()"
   ]
  },
  {
   "cell_type": "code",
   "execution_count": 34,
   "metadata": {},
   "outputs": [],
   "source": [
    "df.to_csv(\"C:/Users/Mathw/Downloads/Dados Históricos - Ibovespa (PTech) tratado.csv\", index=False)"
   ]
  }
 ],
 "metadata": {
  "colab": {
   "provenance": []
  },
  "kernelspec": {
   "display_name": "Python 3",
   "name": "python3"
  },
  "language_info": {
   "codemirror_mode": {
    "name": "ipython",
    "version": 3
   },
   "file_extension": ".py",
   "mimetype": "text/x-python",
   "name": "python",
   "nbconvert_exporter": "python",
   "pygments_lexer": "ipython3",
   "version": "3.12.1"
  }
 },
 "nbformat": 4,
 "nbformat_minor": 0
}
