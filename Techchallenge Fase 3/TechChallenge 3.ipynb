{
 "cells": [
  {
   "cell_type": "code",
   "execution_count": 24,
   "metadata": {},
   "outputs": [],
   "source": [
    "import pandas as pd\n",
    "import numpy as np"
   ]
  },
  {
   "cell_type": "code",
   "execution_count": 25,
   "metadata": {},
   "outputs": [],
   "source": [
    "df1 = pd.read_csv('C:/Users/Mathw/Documents/GitHub/Pós ADAT/Techchallenge Fase 3/PNAD_COVID_052020.csv', sep=',', encoding='iso-8859-1', engine='python')\n",
    "df2 = pd.read_csv('C:/Users/Mathw/Documents/GitHub/Pós ADAT/Techchallenge Fase 3/PNAD_COVID_062020.csv', sep=',', encoding='iso-8859-1', engine='python')\n",
    "df3 = pd.read_csv('C:/Users/Mathw/Documents/GitHub/Pós ADAT/Techchallenge Fase 3/PNAD_COVID_072020.csv', sep=',', encoding='iso-8859-1', engine='python')"
   ]
  },
  {
   "cell_type": "code",
   "execution_count": 26,
   "metadata": {},
   "outputs": [
    {
     "data": {
      "text/plain": [
       "(349306, 114)"
      ]
     },
     "execution_count": 26,
     "metadata": {},
     "output_type": "execute_result"
    }
   ],
   "source": [
    "df1.shape"
   ]
  },
  {
   "cell_type": "code",
   "execution_count": 27,
   "metadata": {},
   "outputs": [
    {
     "data": {
      "text/plain": [
       "(381270, 114)"
      ]
     },
     "execution_count": 27,
     "metadata": {},
     "output_type": "execute_result"
    }
   ],
   "source": [
    "df2.shape"
   ]
  },
  {
   "cell_type": "code",
   "execution_count": 30,
   "metadata": {},
   "outputs": [],
   "source": [
    "l1 = df3.columns.tolist()"
   ]
  },
  {
   "cell_type": "code",
   "execution_count": 31,
   "metadata": {},
   "outputs": [
    {
     "data": {
      "text/plain": [
       "['Ano',\n",
       " 'UF',\n",
       " 'CAPITAL',\n",
       " 'RM_RIDE',\n",
       " 'V1008',\n",
       " 'V1012',\n",
       " 'V1013',\n",
       " 'V1016',\n",
       " 'Estrato',\n",
       " 'UPA',\n",
       " 'V1022',\n",
       " 'V1023',\n",
       " 'V1030',\n",
       " 'V1031',\n",
       " 'V1032',\n",
       " 'posest',\n",
       " 'A001',\n",
       " 'A001A',\n",
       " 'A001B1',\n",
       " 'A001B2',\n",
       " 'A001B3',\n",
       " 'A002',\n",
       " 'A003',\n",
       " 'A004',\n",
       " 'A005',\n",
       " 'A006',\n",
       " 'A007',\n",
       " 'A008',\n",
       " 'A009',\n",
       " 'B0011',\n",
       " 'B0012',\n",
       " 'B0013',\n",
       " 'B0014',\n",
       " 'B0015',\n",
       " 'B0016',\n",
       " 'B0017',\n",
       " 'B0018',\n",
       " 'B0019',\n",
       " 'B00110',\n",
       " 'B00111',\n",
       " 'B00112',\n",
       " 'B00113',\n",
       " 'B002',\n",
       " 'B0031',\n",
       " 'B0032',\n",
       " 'B0033',\n",
       " 'B0034',\n",
       " 'B0035',\n",
       " 'B0036',\n",
       " 'B0037',\n",
       " 'B0041',\n",
       " 'B0042',\n",
       " 'B0043',\n",
       " 'B0044',\n",
       " 'B0045',\n",
       " 'B0046',\n",
       " 'B005',\n",
       " 'B006',\n",
       " 'B007',\n",
       " 'B008',\n",
       " 'B009A',\n",
       " 'B009B',\n",
       " 'B009C',\n",
       " 'B009D',\n",
       " 'B009E',\n",
       " 'B009F',\n",
       " 'B0101',\n",
       " 'B0102',\n",
       " 'B0103',\n",
       " 'B0104',\n",
       " 'B0105',\n",
       " 'B0106',\n",
       " 'B011',\n",
       " 'C001',\n",
       " 'C002',\n",
       " 'C003',\n",
       " 'C004',\n",
       " 'C005',\n",
       " 'C0051',\n",
       " 'C0052',\n",
       " 'C0053',\n",
       " 'C006',\n",
       " 'C007',\n",
       " 'C007A',\n",
       " 'C007B',\n",
       " 'C007C',\n",
       " 'C007D',\n",
       " 'C007E',\n",
       " 'C007E1',\n",
       " 'C007E2',\n",
       " 'C007F',\n",
       " 'C008',\n",
       " 'C009',\n",
       " 'C009A',\n",
       " 'C010',\n",
       " 'C0101',\n",
       " 'C01011',\n",
       " 'C01012',\n",
       " 'C0102',\n",
       " 'C01021',\n",
       " 'C01022',\n",
       " 'C0103',\n",
       " 'C0104',\n",
       " 'C011A',\n",
       " 'C011A1',\n",
       " 'C011A11',\n",
       " 'C011A12',\n",
       " 'C011A2',\n",
       " 'C011A21',\n",
       " 'C011A22',\n",
       " 'C012',\n",
       " 'C013',\n",
       " 'C014',\n",
       " 'C015',\n",
       " 'C016',\n",
       " 'C017A',\n",
       " 'D0011',\n",
       " 'D0013',\n",
       " 'D0021',\n",
       " 'D0023',\n",
       " 'D0031',\n",
       " 'D0033',\n",
       " 'D0041',\n",
       " 'D0043',\n",
       " 'D0051',\n",
       " 'D0053',\n",
       " 'D0061',\n",
       " 'D0063',\n",
       " 'D0071',\n",
       " 'D0073',\n",
       " 'E001',\n",
       " 'E0021',\n",
       " 'E0022',\n",
       " 'E0023',\n",
       " 'E0024',\n",
       " 'F001',\n",
       " 'F0021',\n",
       " 'F0022',\n",
       " 'F002A1',\n",
       " 'F002A2',\n",
       " 'F002A3',\n",
       " 'F002A4',\n",
       " 'F002A5',\n",
       " 'F0061',\n",
       " 'F006']"
      ]
     },
     "execution_count": 31,
     "metadata": {},
     "output_type": "execute_result"
    }
   ],
   "source": [
    "l1"
   ]
  },
  {
   "cell_type": "code",
   "execution_count": 29,
   "metadata": {},
   "outputs": [
    {
     "name": "stdout",
     "output_type": "stream",
     "text": [
      "<class 'pandas.core.frame.DataFrame'>\n",
      "RangeIndex: 349306 entries, 0 to 349305\n",
      "Columns: 114 entries, Ano to F006\n",
      "dtypes: float64(71), int64(43)\n",
      "memory usage: 303.8 MB\n"
     ]
    }
   ],
   "source": [
    "df1.info()"
   ]
  }
 ],
 "metadata": {
  "kernelspec": {
   "display_name": "Python 3",
   "language": "python",
   "name": "python3"
  },
  "language_info": {
   "codemirror_mode": {
    "name": "ipython",
    "version": 3
   },
   "file_extension": ".py",
   "mimetype": "text/x-python",
   "name": "python",
   "nbconvert_exporter": "python",
   "pygments_lexer": "ipython3",
   "version": "3.12.1"
  }
 },
 "nbformat": 4,
 "nbformat_minor": 2
}
