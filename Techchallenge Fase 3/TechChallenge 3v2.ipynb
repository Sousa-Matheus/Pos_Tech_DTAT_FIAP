{
 "cells": [
  {
   "cell_type": "code",
   "execution_count": 1,
   "metadata": {},
   "outputs": [],
   "source": [
    "import pandas as pd\n",
    "import numpy as np\n",
    "import matplotlib.pyplot as plt\n",
    "import seaborn as sb"
   ]
  },
  {
   "cell_type": "code",
   "execution_count": 2,
   "metadata": {},
   "outputs": [],
   "source": [
    "url = 'https://datalakedtat.blob.core.windows.net/techchallenge3/bq-pnad-covid-9-10-11.csv'"
   ]
  },
  {
   "cell_type": "code",
   "execution_count": 3,
   "metadata": {},
   "outputs": [],
   "source": [
    "df = pd.read_csv(url, sep=',', encoding='utf-8', engine='python')"
   ]
  },
  {
   "cell_type": "code",
   "execution_count": 4,
   "metadata": {},
   "outputs": [
    {
     "data": {
      "text/html": [
       "<div>\n",
       "<style scoped>\n",
       "    .dataframe tbody tr th:only-of-type {\n",
       "        vertical-align: middle;\n",
       "    }\n",
       "\n",
       "    .dataframe tbody tr th {\n",
       "        vertical-align: top;\n",
       "    }\n",
       "\n",
       "    .dataframe thead th {\n",
       "        text-align: right;\n",
       "    }\n",
       "</style>\n",
       "<table border=\"1\" class=\"dataframe\">\n",
       "  <thead>\n",
       "    <tr style=\"text-align: right;\">\n",
       "      <th></th>\n",
       "      <th>Febre</th>\n",
       "      <th>dor_olhos</th>\n",
       "      <th>cheiro_sabor</th>\n",
       "      <th>dor_muscular</th>\n",
       "      <th>diarreia</th>\n",
       "      <th>tosse</th>\n",
       "      <th>dor_garganta</th>\n",
       "      <th>dificuldade_respiracao</th>\n",
       "      <th>dor_cabeca</th>\n",
       "      <th>dor_peito</th>\n",
       "      <th>...</th>\n",
       "      <th>restringiu_contato</th>\n",
       "      <th>tem_alcool</th>\n",
       "      <th>tem_mascara</th>\n",
       "      <th>idade</th>\n",
       "      <th>sexo</th>\n",
       "      <th>raca_cor</th>\n",
       "      <th>escolaridade</th>\n",
       "      <th>uf</th>\n",
       "      <th>mes</th>\n",
       "      <th>domicilio</th>\n",
       "    </tr>\n",
       "  </thead>\n",
       "  <tbody>\n",
       "    <tr>\n",
       "      <th>0</th>\n",
       "      <td>2</td>\n",
       "      <td>2</td>\n",
       "      <td>2</td>\n",
       "      <td>2</td>\n",
       "      <td>2</td>\n",
       "      <td>2</td>\n",
       "      <td>2</td>\n",
       "      <td>2</td>\n",
       "      <td>2</td>\n",
       "      <td>2</td>\n",
       "      <td>...</td>\n",
       "      <td>3</td>\n",
       "      <td>1</td>\n",
       "      <td>1</td>\n",
       "      <td>18</td>\n",
       "      <td>2</td>\n",
       "      <td>1</td>\n",
       "      <td>5</td>\n",
       "      <td>AP</td>\n",
       "      <td>9</td>\n",
       "      <td>1</td>\n",
       "    </tr>\n",
       "    <tr>\n",
       "      <th>1</th>\n",
       "      <td>2</td>\n",
       "      <td>2</td>\n",
       "      <td>2</td>\n",
       "      <td>2</td>\n",
       "      <td>2</td>\n",
       "      <td>2</td>\n",
       "      <td>2</td>\n",
       "      <td>2</td>\n",
       "      <td>2</td>\n",
       "      <td>2</td>\n",
       "      <td>...</td>\n",
       "      <td>2</td>\n",
       "      <td>1</td>\n",
       "      <td>1</td>\n",
       "      <td>33</td>\n",
       "      <td>1</td>\n",
       "      <td>1</td>\n",
       "      <td>7</td>\n",
       "      <td>AP</td>\n",
       "      <td>9</td>\n",
       "      <td>1</td>\n",
       "    </tr>\n",
       "    <tr>\n",
       "      <th>2</th>\n",
       "      <td>2</td>\n",
       "      <td>2</td>\n",
       "      <td>2</td>\n",
       "      <td>2</td>\n",
       "      <td>2</td>\n",
       "      <td>2</td>\n",
       "      <td>2</td>\n",
       "      <td>2</td>\n",
       "      <td>2</td>\n",
       "      <td>2</td>\n",
       "      <td>...</td>\n",
       "      <td>3</td>\n",
       "      <td>1</td>\n",
       "      <td>1</td>\n",
       "      <td>13</td>\n",
       "      <td>2</td>\n",
       "      <td>4</td>\n",
       "      <td>2</td>\n",
       "      <td>AP</td>\n",
       "      <td>9</td>\n",
       "      <td>1</td>\n",
       "    </tr>\n",
       "    <tr>\n",
       "      <th>3</th>\n",
       "      <td>2</td>\n",
       "      <td>2</td>\n",
       "      <td>2</td>\n",
       "      <td>2</td>\n",
       "      <td>2</td>\n",
       "      <td>2</td>\n",
       "      <td>2</td>\n",
       "      <td>2</td>\n",
       "      <td>2</td>\n",
       "      <td>2</td>\n",
       "      <td>...</td>\n",
       "      <td>3</td>\n",
       "      <td>1</td>\n",
       "      <td>1</td>\n",
       "      <td>61</td>\n",
       "      <td>1</td>\n",
       "      <td>4</td>\n",
       "      <td>5</td>\n",
       "      <td>AP</td>\n",
       "      <td>9</td>\n",
       "      <td>1</td>\n",
       "    </tr>\n",
       "    <tr>\n",
       "      <th>4</th>\n",
       "      <td>2</td>\n",
       "      <td>2</td>\n",
       "      <td>2</td>\n",
       "      <td>2</td>\n",
       "      <td>2</td>\n",
       "      <td>2</td>\n",
       "      <td>2</td>\n",
       "      <td>2</td>\n",
       "      <td>2</td>\n",
       "      <td>2</td>\n",
       "      <td>...</td>\n",
       "      <td>2</td>\n",
       "      <td>1</td>\n",
       "      <td>1</td>\n",
       "      <td>18</td>\n",
       "      <td>1</td>\n",
       "      <td>4</td>\n",
       "      <td>4</td>\n",
       "      <td>AP</td>\n",
       "      <td>9</td>\n",
       "      <td>1</td>\n",
       "    </tr>\n",
       "  </tbody>\n",
       "</table>\n",
       "<p>5 rows × 30 columns</p>\n",
       "</div>"
      ],
      "text/plain": [
       "   Febre  dor_olhos  cheiro_sabor  dor_muscular  diarreia  tosse  \\\n",
       "0      2          2             2             2         2      2   \n",
       "1      2          2             2             2         2      2   \n",
       "2      2          2             2             2         2      2   \n",
       "3      2          2             2             2         2      2   \n",
       "4      2          2             2             2         2      2   \n",
       "\n",
       "   dor_garganta  dificuldade_respiracao  dor_cabeca  dor_peito  ...  \\\n",
       "0             2                       2           2          2  ...   \n",
       "1             2                       2           2          2  ...   \n",
       "2             2                       2           2          2  ...   \n",
       "3             2                       2           2          2  ...   \n",
       "4             2                       2           2          2  ...   \n",
       "\n",
       "   restringiu_contato  tem_alcool  tem_mascara  idade  sexo  raca_cor  \\\n",
       "0                   3           1            1     18     2         1   \n",
       "1                   2           1            1     33     1         1   \n",
       "2                   3           1            1     13     2         4   \n",
       "3                   3           1            1     61     1         4   \n",
       "4                   2           1            1     18     1         4   \n",
       "\n",
       "   escolaridade  uf  mes domicilio  \n",
       "0             5  AP    9         1  \n",
       "1             7  AP    9         1  \n",
       "2             2  AP    9         1  \n",
       "3             5  AP    9         1  \n",
       "4             4  AP    9         1  \n",
       "\n",
       "[5 rows x 30 columns]"
      ]
     },
     "execution_count": 4,
     "metadata": {},
     "output_type": "execute_result"
    }
   ],
   "source": [
    "df.head()"
   ]
  },
  {
   "cell_type": "code",
   "execution_count": 5,
   "metadata": {},
   "outputs": [
    {
     "data": {
      "text/plain": [
       "(1149197, 30)"
      ]
     },
     "execution_count": 5,
     "metadata": {},
     "output_type": "execute_result"
    }
   ],
   "source": [
    "df.shape"
   ]
  },
  {
   "cell_type": "code",
   "execution_count": 6,
   "metadata": {},
   "outputs": [],
   "source": [
    "df.fillna(0, inplace=True)"
   ]
  },
  {
   "cell_type": "code",
   "execution_count": 7,
   "metadata": {},
   "outputs": [
    {
     "name": "stdout",
     "output_type": "stream",
     "text": [
      "<class 'pandas.core.frame.DataFrame'>\n",
      "RangeIndex: 1149197 entries, 0 to 1149196\n",
      "Data columns (total 30 columns):\n",
      " #   Column                  Non-Null Count    Dtype  \n",
      "---  ------                  --------------    -----  \n",
      " 0   Febre                   1149197 non-null  int64  \n",
      " 1   dor_olhos               1149197 non-null  int64  \n",
      " 2   cheiro_sabor            1149197 non-null  int64  \n",
      " 3   dor_muscular            1149197 non-null  int64  \n",
      " 4   diarreia                1149197 non-null  int64  \n",
      " 5   tosse                   1149197 non-null  int64  \n",
      " 6   dor_garganta            1149197 non-null  int64  \n",
      " 7   dificuldade_respiracao  1149197 non-null  int64  \n",
      " 8   dor_cabeca              1149197 non-null  int64  \n",
      " 9   dor_peito               1149197 non-null  int64  \n",
      " 10  nausea                  1149197 non-null  int64  \n",
      " 11  nariz_ntupido           1149197 non-null  int64  \n",
      " 12  fadiga                  1149197 non-null  int64  \n",
      " 13  foi_estab_saude         1149197 non-null  float64\n",
      " 14  entubado_resp_art       1149197 non-null  float64\n",
      " 15  plano_saude             1149197 non-null  int64  \n",
      " 16  teste_swab              1149197 non-null  float64\n",
      " 17  teste_dedo              1149197 non-null  float64\n",
      " 18  teste_veia              1149197 non-null  float64\n",
      " 19  teste_positivo          1149197 non-null  object \n",
      " 20  restringiu_contato      1149197 non-null  int64  \n",
      " 21  tem_alcool              1149197 non-null  int64  \n",
      " 22  tem_mascara             1149197 non-null  int64  \n",
      " 23  idade                   1149197 non-null  int64  \n",
      " 24  sexo                    1149197 non-null  int64  \n",
      " 25  raca_cor                1149197 non-null  int64  \n",
      " 26  escolaridade            1149197 non-null  int64  \n",
      " 27  uf                      1149197 non-null  object \n",
      " 28  mes                     1149197 non-null  int64  \n",
      " 29  domicilio               1149197 non-null  int64  \n",
      "dtypes: float64(5), int64(23), object(2)\n",
      "memory usage: 263.0+ MB\n"
     ]
    }
   ],
   "source": [
    "df.info()"
   ]
  },
  {
   "cell_type": "code",
   "execution_count": 8,
   "metadata": {},
   "outputs": [],
   "source": [
    "df_copy = df.copy()"
   ]
  },
  {
   "cell_type": "code",
   "execution_count": 9,
   "metadata": {},
   "outputs": [
    {
     "data": {
      "text/plain": [
       "['Febre',\n",
       " 'dor_olhos',\n",
       " 'cheiro_sabor',\n",
       " 'dor_muscular',\n",
       " 'diarreia',\n",
       " 'tosse',\n",
       " 'dor_garganta',\n",
       " 'dificuldade_respiracao',\n",
       " 'dor_cabeca',\n",
       " 'dor_peito',\n",
       " 'nausea',\n",
       " 'nariz_ntupido',\n",
       " 'fadiga',\n",
       " 'foi_estab_saude',\n",
       " 'entubado_resp_art',\n",
       " 'plano_saude',\n",
       " 'teste_swab',\n",
       " 'teste_dedo',\n",
       " 'teste_veia',\n",
       " 'teste_positivo',\n",
       " 'restringiu_contato',\n",
       " 'tem_alcool',\n",
       " 'tem_mascara',\n",
       " 'idade',\n",
       " 'sexo',\n",
       " 'raca_cor',\n",
       " 'escolaridade',\n",
       " 'uf',\n",
       " 'mes',\n",
       " 'domicilio']"
      ]
     },
     "execution_count": 9,
     "metadata": {},
     "output_type": "execute_result"
    }
   ],
   "source": [
    "dfcolumns = df_copy.columns.tolist()\n",
    "dfcolumns"
   ]
  },
  {
   "cell_type": "code",
   "execution_count": 10,
   "metadata": {},
   "outputs": [],
   "source": [
    "sintomas = df_copy.loc[:, ['Febre',\n",
    " 'dor_olhos',\n",
    " 'cheiro_sabor',\n",
    " 'dor_muscular',\n",
    " 'diarreia',\n",
    " 'tosse',\n",
    " 'dor_garganta',\n",
    " 'dificuldade_respiracao',\n",
    " 'dor_cabeca',\n",
    " 'dor_peito',\n",
    " 'nausea',\n",
    " 'nariz_ntupido',\n",
    " 'fadiga', 'teste_positivo']]"
   ]
  },
  {
   "cell_type": "code",
   "execution_count": 11,
   "metadata": {},
   "outputs": [
    {
     "data": {
      "text/html": [
       "<div>\n",
       "<style scoped>\n",
       "    .dataframe tbody tr th:only-of-type {\n",
       "        vertical-align: middle;\n",
       "    }\n",
       "\n",
       "    .dataframe tbody tr th {\n",
       "        vertical-align: top;\n",
       "    }\n",
       "\n",
       "    .dataframe thead th {\n",
       "        text-align: right;\n",
       "    }\n",
       "</style>\n",
       "<table border=\"1\" class=\"dataframe\">\n",
       "  <thead>\n",
       "    <tr style=\"text-align: right;\">\n",
       "      <th></th>\n",
       "      <th>Febre</th>\n",
       "      <th>dor_olhos</th>\n",
       "      <th>cheiro_sabor</th>\n",
       "      <th>dor_muscular</th>\n",
       "      <th>diarreia</th>\n",
       "      <th>tosse</th>\n",
       "      <th>dor_garganta</th>\n",
       "      <th>dificuldade_respiracao</th>\n",
       "      <th>dor_cabeca</th>\n",
       "      <th>dor_peito</th>\n",
       "      <th>nausea</th>\n",
       "      <th>nariz_ntupido</th>\n",
       "      <th>fadiga</th>\n",
       "      <th>teste_positivo</th>\n",
       "    </tr>\n",
       "  </thead>\n",
       "  <tbody>\n",
       "    <tr>\n",
       "      <th>0</th>\n",
       "      <td>2</td>\n",
       "      <td>2</td>\n",
       "      <td>2</td>\n",
       "      <td>2</td>\n",
       "      <td>2</td>\n",
       "      <td>2</td>\n",
       "      <td>2</td>\n",
       "      <td>2</td>\n",
       "      <td>2</td>\n",
       "      <td>2</td>\n",
       "      <td>2</td>\n",
       "      <td>2</td>\n",
       "      <td>2</td>\n",
       "      <td>não</td>\n",
       "    </tr>\n",
       "    <tr>\n",
       "      <th>1</th>\n",
       "      <td>2</td>\n",
       "      <td>2</td>\n",
       "      <td>2</td>\n",
       "      <td>2</td>\n",
       "      <td>2</td>\n",
       "      <td>2</td>\n",
       "      <td>2</td>\n",
       "      <td>2</td>\n",
       "      <td>2</td>\n",
       "      <td>2</td>\n",
       "      <td>2</td>\n",
       "      <td>2</td>\n",
       "      <td>2</td>\n",
       "      <td>não</td>\n",
       "    </tr>\n",
       "    <tr>\n",
       "      <th>2</th>\n",
       "      <td>2</td>\n",
       "      <td>2</td>\n",
       "      <td>2</td>\n",
       "      <td>2</td>\n",
       "      <td>2</td>\n",
       "      <td>2</td>\n",
       "      <td>2</td>\n",
       "      <td>2</td>\n",
       "      <td>2</td>\n",
       "      <td>2</td>\n",
       "      <td>2</td>\n",
       "      <td>2</td>\n",
       "      <td>2</td>\n",
       "      <td>não</td>\n",
       "    </tr>\n",
       "    <tr>\n",
       "      <th>3</th>\n",
       "      <td>2</td>\n",
       "      <td>2</td>\n",
       "      <td>2</td>\n",
       "      <td>2</td>\n",
       "      <td>2</td>\n",
       "      <td>2</td>\n",
       "      <td>2</td>\n",
       "      <td>2</td>\n",
       "      <td>2</td>\n",
       "      <td>2</td>\n",
       "      <td>2</td>\n",
       "      <td>2</td>\n",
       "      <td>2</td>\n",
       "      <td>não</td>\n",
       "    </tr>\n",
       "    <tr>\n",
       "      <th>4</th>\n",
       "      <td>2</td>\n",
       "      <td>2</td>\n",
       "      <td>2</td>\n",
       "      <td>2</td>\n",
       "      <td>2</td>\n",
       "      <td>2</td>\n",
       "      <td>2</td>\n",
       "      <td>2</td>\n",
       "      <td>2</td>\n",
       "      <td>2</td>\n",
       "      <td>2</td>\n",
       "      <td>2</td>\n",
       "      <td>2</td>\n",
       "      <td>não</td>\n",
       "    </tr>\n",
       "    <tr>\n",
       "      <th>...</th>\n",
       "      <td>...</td>\n",
       "      <td>...</td>\n",
       "      <td>...</td>\n",
       "      <td>...</td>\n",
       "      <td>...</td>\n",
       "      <td>...</td>\n",
       "      <td>...</td>\n",
       "      <td>...</td>\n",
       "      <td>...</td>\n",
       "      <td>...</td>\n",
       "      <td>...</td>\n",
       "      <td>...</td>\n",
       "      <td>...</td>\n",
       "      <td>...</td>\n",
       "    </tr>\n",
       "    <tr>\n",
       "      <th>1149192</th>\n",
       "      <td>2</td>\n",
       "      <td>2</td>\n",
       "      <td>2</td>\n",
       "      <td>2</td>\n",
       "      <td>2</td>\n",
       "      <td>2</td>\n",
       "      <td>2</td>\n",
       "      <td>2</td>\n",
       "      <td>2</td>\n",
       "      <td>2</td>\n",
       "      <td>2</td>\n",
       "      <td>2</td>\n",
       "      <td>2</td>\n",
       "      <td>não</td>\n",
       "    </tr>\n",
       "    <tr>\n",
       "      <th>1149193</th>\n",
       "      <td>2</td>\n",
       "      <td>2</td>\n",
       "      <td>2</td>\n",
       "      <td>2</td>\n",
       "      <td>2</td>\n",
       "      <td>2</td>\n",
       "      <td>2</td>\n",
       "      <td>2</td>\n",
       "      <td>2</td>\n",
       "      <td>2</td>\n",
       "      <td>2</td>\n",
       "      <td>2</td>\n",
       "      <td>2</td>\n",
       "      <td>não</td>\n",
       "    </tr>\n",
       "    <tr>\n",
       "      <th>1149194</th>\n",
       "      <td>2</td>\n",
       "      <td>2</td>\n",
       "      <td>2</td>\n",
       "      <td>2</td>\n",
       "      <td>2</td>\n",
       "      <td>2</td>\n",
       "      <td>2</td>\n",
       "      <td>2</td>\n",
       "      <td>2</td>\n",
       "      <td>2</td>\n",
       "      <td>2</td>\n",
       "      <td>2</td>\n",
       "      <td>2</td>\n",
       "      <td>não</td>\n",
       "    </tr>\n",
       "    <tr>\n",
       "      <th>1149195</th>\n",
       "      <td>2</td>\n",
       "      <td>2</td>\n",
       "      <td>2</td>\n",
       "      <td>2</td>\n",
       "      <td>2</td>\n",
       "      <td>2</td>\n",
       "      <td>2</td>\n",
       "      <td>2</td>\n",
       "      <td>2</td>\n",
       "      <td>2</td>\n",
       "      <td>2</td>\n",
       "      <td>2</td>\n",
       "      <td>2</td>\n",
       "      <td>não</td>\n",
       "    </tr>\n",
       "    <tr>\n",
       "      <th>1149196</th>\n",
       "      <td>2</td>\n",
       "      <td>2</td>\n",
       "      <td>2</td>\n",
       "      <td>2</td>\n",
       "      <td>2</td>\n",
       "      <td>2</td>\n",
       "      <td>2</td>\n",
       "      <td>2</td>\n",
       "      <td>2</td>\n",
       "      <td>2</td>\n",
       "      <td>2</td>\n",
       "      <td>2</td>\n",
       "      <td>2</td>\n",
       "      <td>não</td>\n",
       "    </tr>\n",
       "  </tbody>\n",
       "</table>\n",
       "<p>1149197 rows × 14 columns</p>\n",
       "</div>"
      ],
      "text/plain": [
       "         Febre  dor_olhos  cheiro_sabor  dor_muscular  diarreia  tosse  \\\n",
       "0            2          2             2             2         2      2   \n",
       "1            2          2             2             2         2      2   \n",
       "2            2          2             2             2         2      2   \n",
       "3            2          2             2             2         2      2   \n",
       "4            2          2             2             2         2      2   \n",
       "...        ...        ...           ...           ...       ...    ...   \n",
       "1149192      2          2             2             2         2      2   \n",
       "1149193      2          2             2             2         2      2   \n",
       "1149194      2          2             2             2         2      2   \n",
       "1149195      2          2             2             2         2      2   \n",
       "1149196      2          2             2             2         2      2   \n",
       "\n",
       "         dor_garganta  dificuldade_respiracao  dor_cabeca  dor_peito  nausea  \\\n",
       "0                   2                       2           2          2       2   \n",
       "1                   2                       2           2          2       2   \n",
       "2                   2                       2           2          2       2   \n",
       "3                   2                       2           2          2       2   \n",
       "4                   2                       2           2          2       2   \n",
       "...               ...                     ...         ...        ...     ...   \n",
       "1149192             2                       2           2          2       2   \n",
       "1149193             2                       2           2          2       2   \n",
       "1149194             2                       2           2          2       2   \n",
       "1149195             2                       2           2          2       2   \n",
       "1149196             2                       2           2          2       2   \n",
       "\n",
       "         nariz_ntupido  fadiga teste_positivo  \n",
       "0                    2       2            não  \n",
       "1                    2       2            não  \n",
       "2                    2       2            não  \n",
       "3                    2       2            não  \n",
       "4                    2       2            não  \n",
       "...                ...     ...            ...  \n",
       "1149192              2       2            não  \n",
       "1149193              2       2            não  \n",
       "1149194              2       2            não  \n",
       "1149195              2       2            não  \n",
       "1149196              2       2            não  \n",
       "\n",
       "[1149197 rows x 14 columns]"
      ]
     },
     "execution_count": 11,
     "metadata": {},
     "output_type": "execute_result"
    }
   ],
   "source": [
    "sintomas"
   ]
  },
  {
   "cell_type": "code",
   "execution_count": 12,
   "metadata": {},
   "outputs": [
    {
     "data": {
      "text/plain": [
       "teste_positivo\n",
       "não    1116275\n",
       "sim      32922\n",
       "Name: count, dtype: int64"
      ]
     },
     "execution_count": 12,
     "metadata": {},
     "output_type": "execute_result"
    }
   ],
   "source": [
    "df.loc[:, 'teste_positivo'].value_counts()"
   ]
  },
  {
   "cell_type": "code",
   "execution_count": 13,
   "metadata": {},
   "outputs": [
    {
     "data": {
      "text/plain": [
       "1149197"
      ]
     },
     "execution_count": 13,
     "metadata": {},
     "output_type": "execute_result"
    }
   ],
   "source": [
    "df_testes = df.loc[:, 'teste_positivo'].count()\n",
    "df_testes"
   ]
  },
  {
   "cell_type": "code",
   "execution_count": 14,
   "metadata": {},
   "outputs": [
    {
     "data": {
      "text/plain": [
       "32922"
      ]
     },
     "execution_count": 14,
     "metadata": {},
     "output_type": "execute_result"
    }
   ],
   "source": [
    "df_testes_p = df['teste_positivo'].value_counts().get('sim', 0)\n",
    "df_testes_p"
   ]
  },
  {
   "cell_type": "code",
   "execution_count": 15,
   "metadata": {},
   "outputs": [
    {
     "data": {
      "text/plain": [
       "2.8647829745465745"
      ]
     },
     "execution_count": 15,
     "metadata": {},
     "output_type": "execute_result"
    }
   ],
   "source": [
    "pct_positivo = df_testes_p * 100 / df_testes\n",
    "pct_positivo"
   ]
  },
  {
   "cell_type": "code",
   "execution_count": 16,
   "metadata": {},
   "outputs": [
    {
     "data": {
      "text/plain": [
       "sexo\n",
       "2    598541\n",
       "1    550656\n",
       "Name: count, dtype: int64"
      ]
     },
     "execution_count": 16,
     "metadata": {},
     "output_type": "execute_result"
    }
   ],
   "source": [
    "df.loc[:, 'sexo'].value_counts()"
   ]
  },
  {
   "cell_type": "code",
   "execution_count": 17,
   "metadata": {},
   "outputs": [],
   "source": [
    "df_copy['sexo'] = df_copy['sexo'].map({1: 'F', 2: 'M'})\n"
   ]
  },
  {
   "cell_type": "markdown",
   "metadata": {},
   "source": [
    "1\tBranca\n",
    "2\tPreta\n",
    "3\tAmarela\n",
    "4\tParda\n",
    "5\tIndígena\n",
    "9\tIgnorado"
   ]
  },
  {
   "cell_type": "code",
   "execution_count": 18,
   "metadata": {},
   "outputs": [],
   "source": [
    "df_copy['raca_cor'] = df_copy['raca_cor'].map({1: 'Branca', 2: 'Preta', 3: 'Amarela', 4: 'Parda', 5: 'Indígena', 6: 'Ignorado'})"
   ]
  },
  {
   "cell_type": "code",
   "execution_count": 19,
   "metadata": {},
   "outputs": [],
   "source": [
    "bins = [0, 20, 30, 40, 50, 60, 70, 80, 90, 100, 111]\n",
    "labels = ['0-20', '21-30', '31-40', '41-50', '51-60', '61-70', '71-80', '81-90', '91-100','101-111']\n",
    "\n",
    "# Criar a nova coluna com os grupos de idade\n",
    "df_copy['faixa_etaria'] = pd.cut(df_copy['idade'], bins=bins, labels=labels, right=True)"
   ]
  },
  {
   "cell_type": "code",
   "execution_count": 20,
   "metadata": {},
   "outputs": [
    {
     "data": {
      "text/html": [
       "<div>\n",
       "<style scoped>\n",
       "    .dataframe tbody tr th:only-of-type {\n",
       "        vertical-align: middle;\n",
       "    }\n",
       "\n",
       "    .dataframe tbody tr th {\n",
       "        vertical-align: top;\n",
       "    }\n",
       "\n",
       "    .dataframe thead th {\n",
       "        text-align: right;\n",
       "    }\n",
       "</style>\n",
       "<table border=\"1\" class=\"dataframe\">\n",
       "  <thead>\n",
       "    <tr style=\"text-align: right;\">\n",
       "      <th></th>\n",
       "      <th>Febre</th>\n",
       "      <th>dor_olhos</th>\n",
       "      <th>cheiro_sabor</th>\n",
       "      <th>dor_muscular</th>\n",
       "      <th>diarreia</th>\n",
       "      <th>tosse</th>\n",
       "      <th>dor_garganta</th>\n",
       "      <th>dificuldade_respiracao</th>\n",
       "      <th>dor_cabeca</th>\n",
       "      <th>dor_peito</th>\n",
       "      <th>...</th>\n",
       "      <th>tem_alcool</th>\n",
       "      <th>tem_mascara</th>\n",
       "      <th>idade</th>\n",
       "      <th>sexo</th>\n",
       "      <th>raca_cor</th>\n",
       "      <th>escolaridade</th>\n",
       "      <th>uf</th>\n",
       "      <th>mes</th>\n",
       "      <th>domicilio</th>\n",
       "      <th>faixa_etaria</th>\n",
       "    </tr>\n",
       "  </thead>\n",
       "  <tbody>\n",
       "    <tr>\n",
       "      <th>0</th>\n",
       "      <td>2</td>\n",
       "      <td>2</td>\n",
       "      <td>2</td>\n",
       "      <td>2</td>\n",
       "      <td>2</td>\n",
       "      <td>2</td>\n",
       "      <td>2</td>\n",
       "      <td>2</td>\n",
       "      <td>2</td>\n",
       "      <td>2</td>\n",
       "      <td>...</td>\n",
       "      <td>1</td>\n",
       "      <td>1</td>\n",
       "      <td>18</td>\n",
       "      <td>M</td>\n",
       "      <td>Branca</td>\n",
       "      <td>5</td>\n",
       "      <td>AP</td>\n",
       "      <td>9</td>\n",
       "      <td>1</td>\n",
       "      <td>0-20</td>\n",
       "    </tr>\n",
       "    <tr>\n",
       "      <th>1</th>\n",
       "      <td>2</td>\n",
       "      <td>2</td>\n",
       "      <td>2</td>\n",
       "      <td>2</td>\n",
       "      <td>2</td>\n",
       "      <td>2</td>\n",
       "      <td>2</td>\n",
       "      <td>2</td>\n",
       "      <td>2</td>\n",
       "      <td>2</td>\n",
       "      <td>...</td>\n",
       "      <td>1</td>\n",
       "      <td>1</td>\n",
       "      <td>33</td>\n",
       "      <td>F</td>\n",
       "      <td>Branca</td>\n",
       "      <td>7</td>\n",
       "      <td>AP</td>\n",
       "      <td>9</td>\n",
       "      <td>1</td>\n",
       "      <td>31-40</td>\n",
       "    </tr>\n",
       "    <tr>\n",
       "      <th>2</th>\n",
       "      <td>2</td>\n",
       "      <td>2</td>\n",
       "      <td>2</td>\n",
       "      <td>2</td>\n",
       "      <td>2</td>\n",
       "      <td>2</td>\n",
       "      <td>2</td>\n",
       "      <td>2</td>\n",
       "      <td>2</td>\n",
       "      <td>2</td>\n",
       "      <td>...</td>\n",
       "      <td>1</td>\n",
       "      <td>1</td>\n",
       "      <td>13</td>\n",
       "      <td>M</td>\n",
       "      <td>Parda</td>\n",
       "      <td>2</td>\n",
       "      <td>AP</td>\n",
       "      <td>9</td>\n",
       "      <td>1</td>\n",
       "      <td>0-20</td>\n",
       "    </tr>\n",
       "    <tr>\n",
       "      <th>3</th>\n",
       "      <td>2</td>\n",
       "      <td>2</td>\n",
       "      <td>2</td>\n",
       "      <td>2</td>\n",
       "      <td>2</td>\n",
       "      <td>2</td>\n",
       "      <td>2</td>\n",
       "      <td>2</td>\n",
       "      <td>2</td>\n",
       "      <td>2</td>\n",
       "      <td>...</td>\n",
       "      <td>1</td>\n",
       "      <td>1</td>\n",
       "      <td>61</td>\n",
       "      <td>F</td>\n",
       "      <td>Parda</td>\n",
       "      <td>5</td>\n",
       "      <td>AP</td>\n",
       "      <td>9</td>\n",
       "      <td>1</td>\n",
       "      <td>61-70</td>\n",
       "    </tr>\n",
       "    <tr>\n",
       "      <th>4</th>\n",
       "      <td>2</td>\n",
       "      <td>2</td>\n",
       "      <td>2</td>\n",
       "      <td>2</td>\n",
       "      <td>2</td>\n",
       "      <td>2</td>\n",
       "      <td>2</td>\n",
       "      <td>2</td>\n",
       "      <td>2</td>\n",
       "      <td>2</td>\n",
       "      <td>...</td>\n",
       "      <td>1</td>\n",
       "      <td>1</td>\n",
       "      <td>18</td>\n",
       "      <td>F</td>\n",
       "      <td>Parda</td>\n",
       "      <td>4</td>\n",
       "      <td>AP</td>\n",
       "      <td>9</td>\n",
       "      <td>1</td>\n",
       "      <td>0-20</td>\n",
       "    </tr>\n",
       "  </tbody>\n",
       "</table>\n",
       "<p>5 rows × 31 columns</p>\n",
       "</div>"
      ],
      "text/plain": [
       "   Febre  dor_olhos  cheiro_sabor  dor_muscular  diarreia  tosse  \\\n",
       "0      2          2             2             2         2      2   \n",
       "1      2          2             2             2         2      2   \n",
       "2      2          2             2             2         2      2   \n",
       "3      2          2             2             2         2      2   \n",
       "4      2          2             2             2         2      2   \n",
       "\n",
       "   dor_garganta  dificuldade_respiracao  dor_cabeca  dor_peito  ...  \\\n",
       "0             2                       2           2          2  ...   \n",
       "1             2                       2           2          2  ...   \n",
       "2             2                       2           2          2  ...   \n",
       "3             2                       2           2          2  ...   \n",
       "4             2                       2           2          2  ...   \n",
       "\n",
       "   tem_alcool  tem_mascara  idade  sexo  raca_cor  escolaridade  uf  mes  \\\n",
       "0           1            1     18     M    Branca             5  AP    9   \n",
       "1           1            1     33     F    Branca             7  AP    9   \n",
       "2           1            1     13     M     Parda             2  AP    9   \n",
       "3           1            1     61     F     Parda             5  AP    9   \n",
       "4           1            1     18     F     Parda             4  AP    9   \n",
       "\n",
       "   domicilio faixa_etaria  \n",
       "0          1         0-20  \n",
       "1          1        31-40  \n",
       "2          1         0-20  \n",
       "3          1        61-70  \n",
       "4          1         0-20  \n",
       "\n",
       "[5 rows x 31 columns]"
      ]
     },
     "execution_count": 20,
     "metadata": {},
     "output_type": "execute_result"
    }
   ],
   "source": [
    "df_copy.head()"
   ]
  },
  {
   "cell_type": "code",
   "execution_count": 21,
   "metadata": {},
   "outputs": [
    {
     "data": {
      "text/plain": [
       "<Axes: xlabel='sexo', ylabel='count'>"
      ]
     },
     "execution_count": 21,
     "metadata": {},
     "output_type": "execute_result"
    },
    {
     "data": {
      "image/png": "[encoded data removed]",
      "text/plain": [
       "<Figure size 1500x600 with 1 Axes>"
      ]
     },
     "metadata": {},
     "output_type": "display_data"
    }
   ],
   "source": [
    "plt.figure(figsize=(15,6))\n",
    "sb.countplot(data=df_copy[df_copy['teste_positivo'] == 'sim'], x='sexo')"
   ]
  },
  {
   "cell_type": "code",
   "execution_count": 22,
   "metadata": {},
   "outputs": [],
   "source": [
    "df_copy['faixa_etaria'] = pd.Categorical(\n",
    "    df_copy['faixa_etaria'], \n",
    "    categories=['0-20', '21-30', '31-40', '41-50', '51-60', '61-70', '71-80', '81-90', '91-100', '101-111'], \n",
    "    ordered=True\n",
    ")"
   ]
  },
  {
   "cell_type": "code",
   "execution_count": 23,
   "metadata": {},
   "outputs": [
    {
     "data": {
      "text/plain": [
       "<Axes: xlabel='faixa_etaria', ylabel='count'>"
      ]
     },
     "execution_count": 23,
     "metadata": {},
     "output_type": "execute_result"
    },
    {
     "data": {
      "image/png": "[encoded data removed]",
      "text/plain": [
       "<Figure size 1500x600 with 1 Axes>"
      ]
     },
     "metadata": {},
     "output_type": "display_data"
    }
   ],
   "source": [
    "plt.figure(figsize=(15,6))\n",
    "sb.countplot(data=df_copy[df_copy['teste_positivo'] == 'sim'], x='faixa_etaria')"
   ]
  },
  {
   "cell_type": "code",
   "execution_count": 24,
   "metadata": {},
   "outputs": [
    {
     "data": {
      "text/plain": [
       "<Axes: xlabel='raca_cor', ylabel='count'>"
      ]
     },
     "execution_count": 24,
     "metadata": {},
     "output_type": "execute_result"
    },
    {
     "data": {
      "image/png": "[encoded data removed]",
      "text/plain": [
       "<Figure size 1500x600 with 1 Axes>"
      ]
     },
     "metadata": {},
     "output_type": "display_data"
    }
   ],
   "source": [
    "plt.figure(figsize=(15,6))\n",
    "sb.countplot(data=df_copy[df_copy['teste_positivo'] == 'sim'], x='raca_cor')"
   ]
  },
  {
   "cell_type": "code",
   "execution_count": 25,
   "metadata": {},
   "outputs": [
    {
     "data": {
      "image/png": "[encoded data removed]",
      "text/plain": [
       "<Figure size 1500x600 with 1 Axes>"
      ]
     },
     "metadata": {},
     "output_type": "display_data"
    }
   ],
   "source": [
    "df_sintomas = sintomas[sintomas['teste_positivo'] == 'sim'].melt(\n",
    "    id_vars=['teste_positivo'],\n",
    "    value_vars=['Febre', 'dor_olhos', 'cheiro_sabor', 'dor_muscular', \n",
    "                'diarreia', 'tosse', 'dor_garganta', 'dificuldade_respiracao', \n",
    "                'dor_cabeca', 'dor_peito', 'nausea', 'nariz_ntupido', 'fadiga'], \n",
    "    var_name='Sintoma', \n",
    "    value_name='Presente'\n",
    ")\n",
    "\n",
    "df_sintomas = df_sintomas[df_sintomas['Presente'] == 1]\n",
    "\n",
    "plt.figure(figsize=(15,6))\n",
    "sb.countplot(data=df_sintomas, x='Sintoma', order=df_sintomas['Sintoma'].value_counts().index)\n",
    "plt.xticks(rotation=45)\n",
    "plt.title('Frequência de Sintomas em Casos Positivos')\n",
    "plt.show()\n"
   ]
  }
 ],
 "metadata": {
  "kernelspec": {
   "display_name": "Python 3",
   "language": "python",
   "name": "python3"
  },
  "language_info": {
   "codemirror_mode": {
    "name": "ipython",
    "version": 3
   },
   "file_extension": ".py",
   "mimetype": "text/x-python",
   "name": "python",
   "nbconvert_exporter": "python",
   "pygments_lexer": "ipython3",
   "version": "3.12.1"
  }
 },
 "nbformat": 4,
 "nbformat_minor": 2
}
