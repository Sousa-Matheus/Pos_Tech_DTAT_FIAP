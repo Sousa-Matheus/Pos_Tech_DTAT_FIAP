{
 "cells": [
  {
   "cell_type": "code",
   "execution_count": 18,
   "id": "6b7cb1fa",
   "metadata": {},
   "outputs": [],
   "source": [
    "import pandas as pd\n",
    "import numpy as np\n",
    "from statsmodels.tsa.arima.model import ARIMA\n",
    "from statsmodels.graphics.tsaplots import plot_predict\n",
    "from sklearn.metrics import mean_squared_error, mean_absolute_error\n",
    "import matplotlib.pyplot as plt\n"
   ]
  },
  {
   "cell_type": "code",
   "execution_count": 19,
   "id": "1cf988e8",
   "metadata": {},
   "outputs": [],
   "source": [
    "df = pd.read_csv(\"https://datalaketech4.blob.core.windows.net/dados-ipea/cotacao_petroleo_ipea.csv\", encoding=\"ISO-8859-1\", delimiter=\";\", decimal=\",\")"
   ]
  },
  {
   "cell_type": "code",
   "execution_count": 20,
   "id": "31573166",
   "metadata": {},
   "outputs": [],
   "source": [
    "df['data'] = pd.to_datetime(df['data'], format='%d/%m/%Y')\n",
    "df = df.set_index(\"data\")"
   ]
  },
  {
   "cell_type": "code",
   "execution_count": 21,
   "id": "a1838878",
   "metadata": {},
   "outputs": [],
   "source": [
    "df = df.asfreq('D')"
   ]
  },
  {
   "cell_type": "code",
   "execution_count": 22,
   "id": "4e9fc122",
   "metadata": {},
   "outputs": [],
   "source": [
    "tamanho_treino = int(len(df) * 0.8)\n",
    "treino = df.iloc[:tamanho_treino]\n",
    "teste = df.iloc[tamanho_treino:]"
   ]
  },
  {
   "cell_type": "code",
   "execution_count": 30,
   "id": "db4a920a",
   "metadata": {},
   "outputs": [
    {
     "name": "stdout",
     "output_type": "stream",
     "text": [
      "                               SARIMAX Results                                \n",
      "==============================================================================\n",
      "Dep. Variable:                  preco   No. Observations:                 3016\n",
      "Model:                 ARIMA(1, 1, 0)   Log Likelihood               -4791.742\n",
      "Date:                Sun, 11 May 2025   AIC                           9587.485\n",
      "Time:                        12:55:40   BIC                           9599.507\n",
      "Sample:                    01-01-2015   HQIC                          9591.808\n",
      "                         - 04-04-2023                                         \n",
      "Covariance Type:                  opg                                         \n",
      "==============================================================================\n",
      "                 coef    std err          z      P>|z|      [0.025      0.975]\n",
      "------------------------------------------------------------------------------\n",
      "ar.L1         -0.0889      0.013     -6.824      0.000      -0.114      -0.063\n",
      "sigma2         2.4265      0.029     84.216      0.000       2.370       2.483\n",
      "===================================================================================\n",
      "Ljung-Box (L1) (Q):                   0.38   Jarque-Bera (JB):             18795.14\n",
      "Prob(Q):                              0.54   Prob(JB):                         0.00\n",
      "Heteroskedasticity (H):               1.73   Skew:                            -0.80\n",
      "Prob(H) (two-sided):                  0.00   Kurtosis:                        15.13\n",
      "===================================================================================\n",
      "\n",
      "Warnings:\n",
      "[1] Covariance matrix calculated using the outer product of gradients (complex-step).\n"
     ]
    }
   ],
   "source": [
    "order = (1, 1, 0)\n",
    "modelo_arima = ARIMA(treino, order=order)\n",
    "modelo_arima_fit = modelo_arima.fit()\n",
    "print(modelo_arima_fit.summary())\n",
    "predicoes = modelo_arima_fit.forecast(steps=len(teste))"
   ]
  },
  {
   "cell_type": "code",
   "execution_count": 31,
   "id": "8243f7a2",
   "metadata": {},
   "outputs": [],
   "source": [
    "predicoes = pd.Series(predicoes, index=teste.index)"
   ]
  },
  {
   "cell_type": "code",
   "execution_count": 32,
   "id": "4c9b46b6",
   "metadata": {},
   "outputs": [
    {
     "data": {
      "text/plain": [
       "data\n",
       "2023-04-05    85.709779\n",
       "2023-04-06    85.708910\n",
       "2023-04-07    85.708987\n",
       "2023-04-08    85.708980\n",
       "2023-04-09    85.708981\n",
       "                ...    \n",
       "2025-04-24    85.708981\n",
       "2025-04-25    85.708981\n",
       "2025-04-26    85.708981\n",
       "2025-04-27    85.708981\n",
       "2025-04-28    85.708981\n",
       "Freq: D, Name: predicted_mean, Length: 755, dtype: float64"
      ]
     },
     "execution_count": 32,
     "metadata": {},
     "output_type": "execute_result"
    }
   ],
   "source": [
    "predicoes"
   ]
  },
  {
   "cell_type": "code",
   "execution_count": 33,
   "id": "ad21301f",
   "metadata": {},
   "outputs": [
    {
     "data": {
      "text/html": [
       "<div>\n",
       "<style scoped>\n",
       "    .dataframe tbody tr th:only-of-type {\n",
       "        vertical-align: middle;\n",
       "    }\n",
       "\n",
       "    .dataframe tbody tr th {\n",
       "        vertical-align: top;\n",
       "    }\n",
       "\n",
       "    .dataframe thead th {\n",
       "        text-align: right;\n",
       "    }\n",
       "</style>\n",
       "<table border=\"1\" class=\"dataframe\">\n",
       "  <thead>\n",
       "    <tr style=\"text-align: right;\">\n",
       "      <th></th>\n",
       "      <th>preco</th>\n",
       "    </tr>\n",
       "    <tr>\n",
       "      <th>data</th>\n",
       "      <th></th>\n",
       "    </tr>\n",
       "  </thead>\n",
       "  <tbody>\n",
       "    <tr>\n",
       "      <th>2023-04-05</th>\n",
       "      <td>85.89</td>\n",
       "    </tr>\n",
       "    <tr>\n",
       "      <th>2023-04-06</th>\n",
       "      <td>86.56</td>\n",
       "    </tr>\n",
       "    <tr>\n",
       "      <th>2023-04-07</th>\n",
       "      <td>NaN</td>\n",
       "    </tr>\n",
       "    <tr>\n",
       "      <th>2023-04-08</th>\n",
       "      <td>NaN</td>\n",
       "    </tr>\n",
       "    <tr>\n",
       "      <th>2023-04-09</th>\n",
       "      <td>NaN</td>\n",
       "    </tr>\n",
       "    <tr>\n",
       "      <th>...</th>\n",
       "      <td>...</td>\n",
       "    </tr>\n",
       "    <tr>\n",
       "      <th>2025-04-24</th>\n",
       "      <td>67.50</td>\n",
       "    </tr>\n",
       "    <tr>\n",
       "      <th>2025-04-25</th>\n",
       "      <td>66.99</td>\n",
       "    </tr>\n",
       "    <tr>\n",
       "      <th>2025-04-26</th>\n",
       "      <td>NaN</td>\n",
       "    </tr>\n",
       "    <tr>\n",
       "      <th>2025-04-27</th>\n",
       "      <td>NaN</td>\n",
       "    </tr>\n",
       "    <tr>\n",
       "      <th>2025-04-28</th>\n",
       "      <td>66.13</td>\n",
       "    </tr>\n",
       "  </tbody>\n",
       "</table>\n",
       "<p>755 rows × 1 columns</p>\n",
       "</div>"
      ],
      "text/plain": [
       "            preco\n",
       "data             \n",
       "2023-04-05  85.89\n",
       "2023-04-06  86.56\n",
       "2023-04-07    NaN\n",
       "2023-04-08    NaN\n",
       "2023-04-09    NaN\n",
       "...           ...\n",
       "2025-04-24  67.50\n",
       "2025-04-25  66.99\n",
       "2025-04-26    NaN\n",
       "2025-04-27    NaN\n",
       "2025-04-28  66.13\n",
       "\n",
       "[755 rows x 1 columns]"
      ]
     },
     "execution_count": 33,
     "metadata": {},
     "output_type": "execute_result"
    }
   ],
   "source": [
    "teste"
   ]
  },
  {
   "cell_type": "code",
   "execution_count": null,
   "id": "8552576a",
   "metadata": {},
   "outputs": [],
   "source": []
  }
 ],
 "metadata": {
  "kernelspec": {
   "display_name": "Python 3",
   "language": "python",
   "name": "python3"
  },
  "language_info": {
   "codemirror_mode": {
    "name": "ipython",
    "version": 3
   },
   "file_extension": ".py",
   "mimetype": "text/x-python",
   "name": "python",
   "nbconvert_exporter": "python",
   "pygments_lexer": "ipython3",
   "version": "3.11.9"
  }
 },
 "nbformat": 4,
 "nbformat_minor": 5
}
