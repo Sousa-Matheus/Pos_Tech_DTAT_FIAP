{
 "cells": [
  {
   "cell_type": "code",
   "execution_count": 1,
   "metadata": {},
   "outputs": [],
   "source": [
    "# Importando bibliotecas\n",
    "import pandas as pd\n",
    "import numpy as np\n",
    "import matplotlib.pyplot as plt\n",
    "import seaborn as sns\n",
    "from statsmodels.tsa.stattools import adfuller\n",
    "from statsmodels.tsa.seasonal import seasonal_decompose\n",
    "from sklearn.preprocessing import StandardScaler"
   ]
  },
  {
   "cell_type": "code",
   "execution_count": 7,
   "metadata": {},
   "outputs": [],
   "source": [
    "# Lendo o arquivo com o delimitador correto e codificação\n",
    "df = pd.read_csv(\"https://datalaketech4.blob.core.windows.net/dados-ipea/cotacao_petroleo_ipea.csv\", encoding=\"ISO-8859-1\", delimiter=\";\", decimal=\",\")"
   ]
  },
  {
   "cell_type": "code",
   "execution_count": 8,
   "metadata": {},
   "outputs": [
    {
     "data": {
      "text/html": [
       "<div>\n",
       "<style scoped>\n",
       "    .dataframe tbody tr th:only-of-type {\n",
       "        vertical-align: middle;\n",
       "    }\n",
       "\n",
       "    .dataframe tbody tr th {\n",
       "        vertical-align: top;\n",
       "    }\n",
       "\n",
       "    .dataframe thead th {\n",
       "        text-align: right;\n",
       "    }\n",
       "</style>\n",
       "<table border=\"1\" class=\"dataframe\">\n",
       "  <thead>\n",
       "    <tr style=\"text-align: right;\">\n",
       "      <th></th>\n",
       "      <th>data</th>\n",
       "      <th>valor_us$</th>\n",
       "    </tr>\n",
       "  </thead>\n",
       "  <tbody>\n",
       "    <tr>\n",
       "      <th>0</th>\n",
       "      <td>01/01/2015</td>\n",
       "      <td>55.27</td>\n",
       "    </tr>\n",
       "    <tr>\n",
       "      <th>1</th>\n",
       "      <td>02/01/2015</td>\n",
       "      <td>57.86</td>\n",
       "    </tr>\n",
       "    <tr>\n",
       "      <th>2</th>\n",
       "      <td>03/01/2015</td>\n",
       "      <td>55.60</td>\n",
       "    </tr>\n",
       "    <tr>\n",
       "      <th>3</th>\n",
       "      <td>04/01/2015</td>\n",
       "      <td>55.27</td>\n",
       "    </tr>\n",
       "    <tr>\n",
       "      <th>4</th>\n",
       "      <td>05/01/2015</td>\n",
       "      <td>55.27</td>\n",
       "    </tr>\n",
       "  </tbody>\n",
       "</table>\n",
       "</div>"
      ],
      "text/plain": [
       "         data  valor_us$\n",
       "0  01/01/2015      55.27\n",
       "1  02/01/2015      57.86\n",
       "2  03/01/2015      55.60\n",
       "3  04/01/2015      55.27\n",
       "4  05/01/2015      55.27"
      ]
     },
     "execution_count": 8,
     "metadata": {},
     "output_type": "execute_result"
    }
   ],
   "source": [
    "df.head()"
   ]
  },
  {
   "cell_type": "code",
   "execution_count": null,
   "metadata": {},
   "outputs": [],
   "source": [
    "#Ajuste na data \n",
    "df.columns = df.columns.str.strip() \n",
    "df['data'] = pd.to_datetime(df['data'], format='%d/%m/%Y') "
   ]
  },
  {
   "cell_type": "code",
   "execution_count": 10,
   "metadata": {},
   "outputs": [
    {
     "name": "stdout",
     "output_type": "stream",
     "text": [
      "        data  valor_us$\n",
      "0 2015-01-01      55.27\n",
      "1 2015-01-02      57.86\n",
      "2 2015-01-03      55.60\n",
      "3 2015-01-04      55.27\n",
      "4 2015-01-05      55.27\n"
     ]
    }
   ],
   "source": [
    "#Exibindo primeiras linhas \n",
    "print(df.head())"
   ]
  },
  {
   "cell_type": "code",
   "execution_count": null,
   "metadata": {},
   "outputs": [],
   "source": [
    "#Tratando dados \n",
    "print(df.isnull().sum())  # Contar valores nulos\n",
    "df.dropna(inplace=True)  # Remover se necessário"
   ]
  },
  {
   "cell_type": "code",
   "execution_count": null,
   "metadata": {},
   "outputs": [],
   "source": [
    "#Verificar e remover outliers\n",
    "plt.boxplot(df['preco'])\n",
    "plt.title(\"Detecção de Outliers no Preço do Petróleo\")\n",
    "plt.show()"
   ]
  },
  {
   "cell_type": "code",
   "execution_count": null,
   "metadata": {},
   "outputs": [],
   "source": [
    "# Calcular o IQR para detectar outliers\n",
    "Q1 = df['preco'].quantile(0.25)\n",
    "Q3 = df['preco'].quantile(0.75)\n",
    "IQR = Q3 - Q1"
   ]
  },
  {
   "cell_type": "code",
   "execution_count": null,
   "metadata": {},
   "outputs": [],
   "source": [
    "# Definir limites para valores aceitáveis\n",
    "limite_inferior = Q1 - 1.5 * IQR\n",
    "limite_superior = Q3 + 1.5 * IQR"
   ]
  },
  {
   "cell_type": "code",
   "execution_count": null,
   "metadata": {},
   "outputs": [],
   "source": [
    "# Filtrar outliers\n",
    "df_sem_outliers = df[(df['preco'] >= limite_inferior) & (df['preco'] <= limite_superior)]"
   ]
  },
  {
   "cell_type": "code",
   "execution_count": null,
   "metadata": {},
   "outputs": [],
   "source": [
    "# Exibir gráfico novamente após a remoção dos outliers\n",
    "plt.boxplot(df_sem_outliers['preco'])\n",
    "plt.title(\"Detecção de Outliers no Preço do Petróleo (sem outliers)\")\n",
    "plt.show()\n"
   ]
  },
  {
   "cell_type": "code",
   "execution_count": null,
   "metadata": {},
   "outputs": [],
   "source": [
    "#Removendo valores \n",
    "df = df[df['preco'] < df['preco'].quantile(0.99)]  # Exemplo de remoção de outliers acima do percentil 99"
   ]
  },
  {
   "cell_type": "code",
   "execution_count": null,
   "metadata": {},
   "outputs": [],
   "source": [
    "#Evolução do preço ao longo do tempo\n",
    "plt.figure(figsize=(12,6))\n",
    "sns.lineplot(x=df['data'], y=df['preco'])\n",
    "plt.title(\"Variação do Preço do Petróleo Brent ao Longo do Tempo\")\n",
    "plt.xlabel(\"Data\")\n",
    "plt.ylabel(\"Preço (USD)\")\n",
    "plt.grid()\n",
    "plt.show()"
   ]
  },
  {
   "cell_type": "code",
   "execution_count": null,
   "metadata": {},
   "outputs": [],
   "source": [
    "#Estatísticas descritivas para entender a distribuição dos preços\n",
    "print(df['preco'].describe())"
   ]
  },
  {
   "cell_type": "code",
   "execution_count": null,
   "metadata": {},
   "outputs": [],
   "source": [
    "#Componentes sazonais\n",
    "df['ano'] = df['data'].dt.year\n",
    "df['mes'] = df['data'].dt.month\n",
    "df['dia_da_semana'] = df['data'].dt.dayofweek  # Segunda = 0, Domingo = 6"
   ]
  },
  {
   "cell_type": "code",
   "execution_count": null,
   "metadata": {},
   "outputs": [],
   "source": [
    "#Médias móveis para suavizar oscilações\n",
    "df['media_movel_30'] = df['preco'].rolling(window=30).mean()"
   ]
  },
  {
   "cell_type": "code",
   "execution_count": null,
   "metadata": {},
   "outputs": [],
   "source": [
    "# Criando uma variável de lag de 1 dia\n",
    "df['preco_lag_1'] = df['preco'].shift(1)"
   ]
  },
  {
   "cell_type": "code",
   "execution_count": null,
   "metadata": {},
   "outputs": [],
   "source": [
    "# Calculando a variação percentual\n",
    "df['variacao_percentual'] = df['preco'].pct_change() * 100"
   ]
  },
  {
   "cell_type": "code",
   "execution_count": null,
   "metadata": {},
   "outputs": [],
   "source": [
    "# Normalizando os preços\n",
    "scaler = StandardScaler()\n",
    "df['preco_normalizado'] = scaler.fit_transform(df[['preco']])"
   ]
  },
  {
   "cell_type": "code",
   "execution_count": null,
   "metadata": {},
   "outputs": [],
   "source": [
    "# Calculando o logaritmo do preço\n",
    "df['preco_log'] = np.log(df['preco'])"
   ]
  },
  {
   "cell_type": "code",
   "execution_count": null,
   "metadata": {},
   "outputs": [],
   "source": [
    "# Preenchendo os valores NaN\n",
    "df['media_movel_30'] = df['media_movel_30'].fillna(df['media_movel_30'].mean())\n",
    "df['variacao_percentual'] = df['variacao_percentual'].fillna(df['variacao_percentual'].mean())\n"
   ]
  },
  {
   "cell_type": "code",
   "execution_count": null,
   "metadata": {},
   "outputs": [],
   "source": [
    "# Verificando ajuste\n",
    "print(df.head())"
   ]
  },
  {
   "cell_type": "code",
   "execution_count": null,
   "metadata": {},
   "outputs": [],
   "source": [
    "# Verificando a correlação entre as variáveis\n",
    "print(df.corr())"
   ]
  },
  {
   "cell_type": "code",
   "execution_count": null,
   "metadata": {},
   "outputs": [],
   "source": [
    "# Gráfico de dispersão entre preço no dia anterior e preço logarítmico\n",
    "plt.figure(figsize=(10, 6))\n",
    "sns.scatterplot(x=df['preco_lag_1'], y=df['preco_log'])\n",
    "plt.title('Correlação entre Preço Logarítmico e Preço no Dia Anterior')\n",
    "plt.xlabel('Preço no Dia Anterior')\n",
    "plt.ylabel('Preço Logarítmico')\n",
    "plt.show()"
   ]
  },
  {
   "cell_type": "code",
   "execution_count": null,
   "metadata": {},
   "outputs": [],
   "source": [
    "# Decomposição da série temporal\n",
    "decomposicao = seasonal_decompose(df['preco'], model='multiplicative', period=365)\n",
    "decomposicao.plot()\n",
    "plt.show()"
   ]
  },
  {
   "cell_type": "code",
   "execution_count": null,
   "metadata": {},
   "outputs": [],
   "source": [
    "# Teste de Dickey-Fuller para verificar estacionariedade\n",
    "result = adfuller(df['preco'])\n",
    "print(f'Estatística ADF: {result[0]}')\n",
    "print(f'p-valor: {result[1]}')"
   ]
  }
 ],
 "metadata": {
  "kernelspec": {
   "display_name": "Python 3",
   "language": "python",
   "name": "python3"
  },
  "language_info": {
   "codemirror_mode": {
    "name": "ipython",
    "version": 3
   },
   "file_extension": ".py",
   "mimetype": "text/x-python",
   "name": "python",
   "nbconvert_exporter": "python",
   "pygments_lexer": "ipython3",
   "version": "3.11.9"
  }
 },
 "nbformat": 4,
 "nbformat_minor": 2
}
