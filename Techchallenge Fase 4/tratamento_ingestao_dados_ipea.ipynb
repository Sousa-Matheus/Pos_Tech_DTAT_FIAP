{
 "cells": [
  {
   "cell_type": "markdown",
   "id": "e46108ce",
   "metadata": {},
   "source": [
    "Importando bibliotecas necessárias para importar, tratar e salvar os dados do IPEA (via bibioteca do ipea em http://www.ipeadata.gov.br/Default.aspx) em csv"
   ]
  },
  {
   "cell_type": "code",
   "execution_count": 1,
   "id": "a79f8ddc",
   "metadata": {},
   "outputs": [],
   "source": [
    "# iImportação das bibliotecas\n",
    "import ipeadatapy as ip\n",
    "import pandas as pd\n",
    "from io import StringIO\n",
    "from azure.storage.filedatalake import DataLakeServiceClient"
   ]
  },
  {
   "cell_type": "code",
   "execution_count": 2,
   "id": "6c29f5cd",
   "metadata": {},
   "outputs": [],
   "source": [
    "# Importando dados do IPEA\n",
    "codigo = 'EIA366_PBRENT366'\n",
    "\n",
    "df = ip.timeseries(codigo)"
   ]
  },
  {
   "cell_type": "code",
   "execution_count": 3,
   "id": "a957aaa7",
   "metadata": {},
   "outputs": [],
   "source": [
    "# Transformando o dataframe importado em um dataframe do pandas\n",
    "df = pd.DataFrame(df)"
   ]
  },
  {
   "cell_type": "code",
   "execution_count": 4,
   "id": "7a751031",
   "metadata": {},
   "outputs": [],
   "source": [
    "# Selecionando apenas a coluna de interesse e o intervalo de datas desejado\n",
    "df = df.loc['2015-01-01':, 'VALUE (US$)']"
   ]
  },
  {
   "cell_type": "code",
   "execution_count": 5,
   "id": "b3a79887",
   "metadata": {},
   "outputs": [],
   "source": [
    "# Trnsformando o panda series em um dataframe\n",
    "df = pd.DataFrame(df)"
   ]
  },
  {
   "cell_type": "code",
   "execution_count": 6,
   "id": "eb0fb811",
   "metadata": {},
   "outputs": [],
   "source": [
    "# Renomeando a coluna para facilitar o uso\n",
    "df = df.rename(columns={'VALUE (US$)': 'valor_us$'})"
   ]
  },
  {
   "cell_type": "code",
   "execution_count": 7,
   "id": "fc666121",
   "metadata": {},
   "outputs": [],
   "source": [
    "# Renomeando o índice para facilitar o uso\n",
    "df.index.name = 'data'"
   ]
  },
  {
   "cell_type": "code",
   "execution_count": 8,
   "id": "7c224e2a",
   "metadata": {},
   "outputs": [],
   "source": [
    "# Transformando o indice em tipo data\n",
    "df.index = pd.to_datetime(df.index)"
   ]
  },
  {
   "cell_type": "code",
   "execution_count": 9,
   "id": "9a23d831",
   "metadata": {},
   "outputs": [],
   "source": [
    "# Formatando o índice para o formato desejado\n",
    "df.index = df.index.strftime('%d/%m/%Y')"
   ]
  },
  {
   "cell_type": "code",
   "execution_count": 10,
   "id": "1824e78f",
   "metadata": {},
   "outputs": [],
   "source": [
    "# Excluindo os valores nulos\n",
    "df.dropna(inplace=True)"
   ]
  },
  {
   "cell_type": "code",
   "execution_count": 13,
   "id": "3bcc1095",
   "metadata": {},
   "outputs": [
    {
     "data": {
      "text/plain": [
       "{'date': datetime.datetime(2025, 4, 26, 22, 31, 26, tzinfo=datetime.timezone.utc),\n",
       " 'etag': '\"0x8DD85121560AF94\"',\n",
       " 'last_modified': datetime.datetime(2025, 4, 26, 22, 31, 27, tzinfo=datetime.timezone.utc),\n",
       " 'content_length': 0,\n",
       " 'client_request_id': '30bc654e-22ee-11f0-80ad-74563cf125a2',\n",
       " 'request_id': '0906bbf0-c01f-004b-3bfa-b66ee8000000',\n",
       " 'version': '2025-05-05',\n",
       " 'request_server_encrypted': False,\n",
       " 'encryption_key_sha256': None,\n",
       " 'lease_renewed': None}"
      ]
     },
     "execution_count": 13,
     "metadata": {},
     "output_type": "execute_result"
    }
   ],
   "source": [
    "# Salvando o dataframe em um arquivo CSV no datalake do Azure\n",
    "\n",
    "csv_buffer = StringIO()\n",
    "df.to_csv(csv_buffer, index=True, header=True, sep=';', index_label='data', decimal=',', float_format='%.2f')\n",
    "\n",
    "account_name = \"datalaketech4\"\n",
    "filesystem_name = \"dados-ipea\"\n",
    "path_in_datalake = \"cotacao_petroleo_ipea.csv\"\n",
    "\n",
    "sas_token = \"sp=rw&st=2025-04-26T20:14:36Z&se=2025-04-27T04:14:36Z&spr=https&sv=2024-11-04&sr=c&sig=23oj2eG5adqmroQgcMXFDPWXNMSfBpLl2LxBhmC344E%3D\"\n",
    "\n",
    "service_client = DataLakeServiceClient(\n",
    "    account_url=f\"https://{account_name}.dfs.core.windows.net?{sas_token}\"\n",
    ")\n",
    "\n",
    "file_system_client = service_client.get_file_system_client(file_system=filesystem_name)\n",
    "file_client = file_system_client.get_file_client(path_in_datalake)\n",
    "\n",
    "file_client.upload_data(csv_buffer.getvalue(), overwrite=True)\n"
   ]
  }
 ],
 "metadata": {
  "kernelspec": {
   "display_name": "Python 3",
   "language": "python",
   "name": "python3"
  },
  "language_info": {
   "codemirror_mode": {
    "name": "ipython",
    "version": 3
   },
   "file_extension": ".py",
   "mimetype": "text/x-python",
   "name": "python",
   "nbconvert_exporter": "python",
   "pygments_lexer": "ipython3",
   "version": "3.11.9"
  }
 },
 "nbformat": 4,
 "nbformat_minor": 5
}
